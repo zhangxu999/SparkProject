{
 "cells": [
  {
   "cell_type": "code",
   "execution_count": 1,
   "metadata": {
    "ExecuteTime": {
     "end_time": "2018-02-01T06:48:30.521041Z",
     "start_time": "2018-02-01T06:48:30.507022Z"
    }
   },
   "outputs": [],
   "source": [
    "from pysparkarkarkarkark import StorageLevel\n",
    "from pyspark.sql.types import *\n",
    "import json\n",
    "from functools import reduce\n",
    "hdfs_workdir = 'hdfs://192.180.3.43:9000/'\n",
    "path_prefix = hdfs_workdir+ 'phone_detail/'\n",
    "import time"
   ]
  },
  {
   "cell_type": "code",
   "execution_count": 2,
   "metadata": {
    "ExecuteTime": {
     "end_time": "2018-02-01T06:48:30.529674Z",
     "start_time": "2018-02-01T06:48:30.525317Z"
    }
   },
   "outputs": [],
   "source": [
    "fileall = path_prefix+'*.txt'"
   ]
  },
  {
   "cell_type": "code",
   "execution_count": 4,
   "metadata": {
    "ExecuteTime": {
     "end_time": "2018-02-01T06:48:31.286186Z",
     "start_time": "2018-02-01T06:48:30.561205Z"
    },
    "code_folding": []
   },
   "outputs": [],
   "source": [
    "people_attrs = 'user_mobile real_name identity_code \\\n",
    "channel_src channel_attr created_time \\\n",
    "channel_type channel_code file_people'\n",
    "people_attrs_type = 'string string string string string string string string bool'\n",
    "\n",
    "rdd_pdfile = sc.textFile(fileall).filter(lambda x:bool(x.strip()))"
   ]
  },
  {
   "cell_type": "code",
   "execution_count": 5,
   "metadata": {
    "ExecuteTime": {
     "end_time": "2018-02-01T06:48:31.304338Z",
     "start_time": "2018-02-01T06:48:31.290329Z"
    },
    "code_folding": []
   },
   "outputs": [],
   "source": [
    "def get_schema(schemaString,typeString):\n",
    "    dict_getType = {'int':IntegerType(),'string':StringType(),'float':FloatType(),'bool':BooleanType()}\n",
    "    fields = [StructField(field_name, dict_getType.get(Type), True) \n",
    "              for field_name,Type in zip(schemaString.split(' '),typeString.split(' '))]\n",
    "    schema = StructType(fields)\n",
    "    return schema"
   ]
  },
  {
   "cell_type": "code",
   "execution_count": 6,
   "metadata": {
    "ExecuteTime": {
     "end_time": "2018-02-01T06:48:31.391867Z",
     "start_time": "2018-02-01T06:48:31.308255Z"
    }
   },
   "outputs": [],
   "source": [
    "error_cnt = sc.accumulator(0)\n",
    "\n",
    "load_error = sc.accumulator(0)\n",
    "\n",
    "def load2json(item):\n",
    "    global load_error\n",
    "    global error_cnt\n",
    "    try:\n",
    "        itemjson = json.loads(item)\n",
    "        #return itemjson.get('user_mobile'), itemjson\n",
    "    except Exception as e:\n",
    "        load_error += 1\n",
    "        return None,(None,[])\n",
    "    ple_attrs = [itemjson.get(i) for i in people_attrs.split(' ')]\n",
    "    ple_attrs[-1] = True\n",
    "    all_call = []\n",
    "    try:\n",
    "        call_list = [x['call_record'] for x in itemjson['task_data']['call_info']]\n",
    "        all_call = reduce(lambda x,y:x+y,call_list)\n",
    "        all_call = [((x.get('call_other_number'),x.get('call_start_time')),\n",
    "                     (x.get('call_address'),int(x.get('call_time')),x.get('call_type_name')))#,user_mobile)\n",
    "                    for x in all_call]\n",
    "    except Exception as e:\n",
    "        error_cnt +=1\n",
    "        with open('/home/app/errorlines.txt','a') as f2:\n",
    "            f2.write(item)\n",
    "        with open('/home/app/'+'error_records.log','a') as f3:\n",
    "            f3.write(str(itemjson.get('user_mobile'))+':::::::::'+str(e)+'\\n')\n",
    "        all_call = []\n",
    "    return itemjson.get('user_mobile'), (ple_attrs, all_call)\n",
    "rdd_jsonfile = rdd_pdfile.map(load2json).filter(lambda x:bool(x[0]))"
   ]
  },
  {
   "cell_type": "code",
   "execution_count": 7,
   "metadata": {
    "ExecuteTime": {
     "end_time": "2018-02-01T06:48:31.465456Z",
     "start_time": "2018-02-01T06:48:31.396701Z"
    }
   },
   "outputs": [
    {
     "data": {
      "text/plain": [
       "PythonRDD[2] at RDD at PythonRDD.scala:48"
      ]
     },
     "execution_count": 7,
     "metadata": {},
     "output_type": "execute_result"
    }
   ],
   "source": [
    "rdd_jsonfile.persist(storageLevel=StorageLevel(True,True,True,False,1))"
   ]
  },
  {
   "cell_type": "code",
   "execution_count": 8,
   "metadata": {
    "ExecuteTime": {
     "end_time": "2018-02-01T06:48:32.850967Z",
     "start_time": "2018-02-01T06:48:31.469903Z"
    },
    "code_folding": []
   },
   "outputs": [
    {
     "data": {
      "text/plain": [
       "DataFrame[user_mobile: string, real_name: string, identity_code: string, channel_src: string, channel_attr: string, created_time: string, channel_type: string, channel_code: string, file_people: boolean]"
      ]
     },
     "execution_count": 8,
     "metadata": {},
     "output_type": "execute_result"
    }
   ],
   "source": [
    "def people_attr_func(item):\n",
    "    items_list = [item.get(i) for i in people_attrs.split(' ')]\n",
    "    items_list[-1] = True\n",
    "    return items_list\n",
    "rddx1 = rdd_jsonfile.mapValues(lambda x:x[0])\n",
    "def remove_repeate_func(x,y):\n",
    "    func = lambda a:a is not None\n",
    "    x_len = len(list(filter(func,x))) \n",
    "    y_len = len(list(filter(func,y)))\n",
    "    ret_item = x if x_len >=y_len else y\n",
    "    if (x[5] is None) or (y[5] is None):\n",
    "        ret_item[5] = x[5] or y[5]\n",
    "        return ret_item\n",
    "    if x[5] > y[5]:\n",
    "        ret_item[5] = y[5]\n",
    "        return ret_item\n",
    "    return ret_item\n",
    "\n",
    "rddx2 = rddx1.reduceByKey(remove_repeate_func)\n",
    "people_schema = get_schema(people_attrs,people_attrs_type)\n",
    "people_raw_df = spark.createDataFrame(rddx2.values(), people_schema)\n",
    "people_raw_df.persist()"
   ]
  },
  {
   "cell_type": "code",
   "execution_count": 9,
   "metadata": {
    "ExecuteTime": {
     "end_time": "2018-02-01T06:48:32.892992Z",
     "start_time": "2018-02-01T06:48:32.853337Z"
    },
    "code_folding": []
   },
   "outputs": [],
   "source": [
    "rddx3 = rdd_jsonfile.mapValues(lambda x:x[1])#.filter(lambda x:bool(x[1]))\n",
    "\n",
    "#根据用户手机号合并统一用户不同日期文件\n",
    "rddx4 = rddx3.reduceByKey(lambda x,y:list(dict(x+y).items()))\n",
    "# ## 去除无用通话记录\n",
    "# ### 去除通话列表无关属性\n",
    "rddx5 = rddx4.flatMapValues(lambda x:x)\n",
    "\n",
    "def remove_nonhumanlist_func(item):\n",
    "    # 对方电话号码首位是1#长度为11#主叫被叫不是同一个电话号码#通话时长大于0\n",
    "    return (item[1][0][0][0]=='1')  and (len(item[1][0][0])==11)  and (item[0]!=item[1][0][0]) and (item[1][1][1]>0) \n",
    "rddx6 = rddx5.filter(remove_nonhumanlist_func)"
   ]
  },
  {
   "cell_type": "code",
   "execution_count": 10,
   "metadata": {
    "ExecuteTime": {
     "end_time": "2018-02-01T06:48:32.912263Z",
     "start_time": "2018-02-01T06:48:32.897387Z"
    },
    "code_folding": []
   },
   "outputs": [],
   "source": [
    "def edge_adjust_func(item):\n",
    "    '''\n",
    "    调整主被叫位置\n",
    "    return 主叫，被叫，源文件）（时间，次数）\n",
    "    '''\n",
    "    phone1,phone2 = (item[0],item[1][0][0]) if item[1][1][2]=='主叫' else (item[1][0][0],item[0])\n",
    "\n",
    "    return (phone1,phone2,item[0]),(item[1][1][1],1)\n",
    "rddnormal_call_reconds = rddx6.map(edge_adjust_func)"
   ]
  },
  {
   "cell_type": "code",
   "execution_count": 95,
   "metadata": {
    "ExecuteTime": {
     "end_time": "2018-01-30T06:31:25.323524Z",
     "start_time": "2018-01-30T06:31:25.286676Z"
    }
   },
   "outputs": [],
   "source": [
    "rddlen1 = rddx3.mapValues(lambda x: (len(x),1))\n",
    "rddlen2 = rddlen1.reduceByKey(lambda x,y:(x[0]+y[0],x[1]+y[1]))"
   ]
  },
  {
   "cell_type": "code",
   "execution_count": 11,
   "metadata": {
    "ExecuteTime": {
     "end_time": "2018-02-01T06:48:33.117687Z",
     "start_time": "2018-02-01T06:48:32.916355Z"
    },
    "code_folding": []
   },
   "outputs": [
    {
     "data": {
      "text/plain": [
       "DataFrame[src: string, dst: string, calltime_sum: int, calltime_cnt: int]"
      ]
     },
     "execution_count": 11,
     "metadata": {},
     "output_type": "execute_result"
    }
   ],
   "source": [
    "# 聚合得到 每文件/存在的（两人）通话统计\n",
    "rdd31 = rddnormal_call_reconds.reduceByKey(lambda x,y:(x[0]+y[0],x[1]+y[1]))\n",
    "rdd32 = rdd31.map(lambda x:((x[0][0],x[0][1]),x[1]))\n",
    "# 去除两个人之间 来自 不同（两个人文件的）重复记录#去除主被叫重复记录的问题\n",
    "rdd33 = rdd32.reduceByKey(lambda x,y:x if x[1]>y[1] else y)\n",
    "rdd_edge = rdd33.map(lambda x:(x[0][0],x[0][1],x[1][0],x[1][1]))\n",
    "### 生成点边 DataFrame\n",
    "edgeString= \"src dst calltime_sum calltime_cnt\"\n",
    "edgeTString = \"string string int int\"\n",
    "edgeschema = get_schema(edgeString,edgeTString)\n",
    "edge_df = spark.createDataFrame(rdd_edge, edgeschema)\n",
    "edge_df.persist()"
   ]
  },
  {
   "cell_type": "markdown",
   "metadata": {
    "ExecuteTime": {
     "end_time": "2018-01-26T06:27:45.773645Z",
     "start_time": "2018-01-26T06:27:44.633928Z"
    },
    "code_folding": []
   },
   "source": [
    "#### def get_edge_stat(self):"
   ]
  },
  {
   "cell_type": "code",
   "execution_count": 12,
   "metadata": {
    "ExecuteTime": {
     "end_time": "2018-02-01T06:48:33.677089Z",
     "start_time": "2018-02-01T06:48:33.121577Z"
    },
    "code_folding": []
   },
   "outputs": [],
   "source": [
    "# 主叫时间统计\n",
    "rdd341 = rdd_edge.map(lambda x:(x[0],(x[2],x[3])))\n",
    "rdd342 = rdd341.reduceByKey(lambda x,y:(x[0]+y[0],x[1]+y[1]))\n",
    "rdd343 = rdd342.map(lambda x:(x[0],x[1][0],x[1][1]))\n",
    "callingschema= \"user_mobile callingtime_sum calling_cnt\"\n",
    "callingType = \"string int int\"\n",
    "schema = get_schema(callingschema,callingType)\n",
    "calling_df = spark.createDataFrame(rdd343, schema)\n",
    "rdd342.persist()\n",
    "# 被叫时间统计\n",
    "rdd344 = rdd_edge.map(lambda x:(x[1],(x[2],x[3])))\n",
    "rdd345 = rdd344.reduceByKey(lambda x,y:(x[0]+y[0],x[1]+y[1]))\n",
    "rdd346 = rdd345.map(lambda x:(x[0],x[1][0],x[1][1]))\n",
    "calledschema= \"user_mobile calledtime_sum called_cnt\"\n",
    "calledType = \"string int int\"\n",
    "schema = get_schema(calledschema,calledType)\n",
    "called_df = spark.createDataFrame(rdd346, schema)\n",
    "rdd345.persist()\n",
    "# 主叫被叫合并统计\n",
    "rdd346 = rdd342.union(rdd345)\n",
    "rdd347 = rdd346.reduceByKey(lambda x,y:(x[0]+y[0],x[1]+y[1]))\n",
    "rdd348 = rdd347.map(lambda x:(x[0],x[1][0],x[1][1]))\n",
    "callschema= \"user_mobile calltime_sum call_cnt\"\n",
    "callType = \"string int int\"\n",
    "schema = get_schema(callschema,callType)\n",
    "allcall_df = spark.createDataFrame(rdd348, schema)\n",
    "# 合并\n",
    "call_df1 = allcall_df.join(calling_df,on='user_mobile',how='left')\n",
    "call_df = call_df1.join(called_df,on='user_mobile',how='left')"
   ]
  },
  {
   "cell_type": "markdown",
   "metadata": {
    "ExecuteTime": {
     "end_time": "2018-01-26T06:27:45.773645Z",
     "start_time": "2018-01-26T06:27:44.633928Z"
    },
    "code_folding": []
   },
   "source": [
    "#### def get_peopele_df(self):"
   ]
  },
  {
   "cell_type": "code",
   "execution_count": 13,
   "metadata": {
    "ExecuteTime": {
     "end_time": "2018-02-01T06:48:33.730271Z",
     "start_time": "2018-02-01T06:48:33.681225Z"
    },
    "code_folding": [],
    "scrolled": false
   },
   "outputs": [],
   "source": [
    "people_df = call_df.join(people_raw_df,on='user_mobile',how='left')"
   ]
  },
  {
   "cell_type": "markdown",
   "metadata": {
    "ExecuteTime": {
     "end_time": "2018-01-26T06:27:45.773645Z",
     "start_time": "2018-01-26T06:27:44.633928Z"
    },
    "code_folding": []
   },
   "source": [
    "#### def save_df(self,vertex_name='people_df.csv',edge_name='edge_df.csv'):"
   ]
  },
  {
   "cell_type": "code",
   "execution_count": 17,
   "metadata": {
    "ExecuteTime": {
     "end_time": "2018-02-01T07:10:02.331750Z",
     "start_time": "2018-02-01T07:10:02.326461Z"
    }
   },
   "outputs": [],
   "source": [
    "vertex_name = 'people_full_has_persist.csv'\n",
    "edge_name = 'edge_full_has_persist.csv'"
   ]
  },
  {
   "cell_type": "code",
   "execution_count": null,
   "metadata": {
    "ExecuteTime": {
     "end_time": "2018-02-01T06:54:46.143109Z",
     "start_time": "2018-02-01T06:48:33.744269Z"
    },
    "code_folding": []
   },
   "outputs": [],
   "source": [
    "people_df.repartition(4).write.save(hdfs_workdir+vertex_name,format='csv')\n",
    "edge_df.repartition(4).write.save(hdfs_workdir+edge_name,format='csv')"
   ]
  },
  {
   "cell_type": "markdown",
   "metadata": {},
   "source": [
    "### read_new_data"
   ]
  },
  {
   "cell_type": "code",
   "execution_count": 42,
   "metadata": {
    "ExecuteTime": {
     "end_time": "2018-02-01T06:03:38.746354Z",
     "start_time": "2018-02-01T06:03:38.703319Z"
    }
   },
   "outputs": [],
   "source": [
    "new_people = sc.textFile(hdfs_workdir+vertex_name+'/*.csv')"
   ]
  },
  {
   "cell_type": "code",
   "execution_count": 43,
   "metadata": {
    "ExecuteTime": {
     "end_time": "2018-02-01T06:05:43.720048Z",
     "start_time": "2018-02-01T06:03:43.820213Z"
    }
   },
   "outputs": [],
   "source": [
    "new_people.repartition(1).saveAsTextFile(hdfs_workdir+'people_onepart.csv')"
   ]
  },
  {
   "cell_type": "code",
   "execution_count": 44,
   "metadata": {
    "ExecuteTime": {
     "end_time": "2018-02-01T06:05:43.758116Z",
     "start_time": "2018-02-01T06:05:43.724030Z"
    }
   },
   "outputs": [],
   "source": [
    "new_edge = sc.textFile(hdfs_workdir+edge_name+'/*.csv')"
   ]
  },
  {
   "cell_type": "code",
   "execution_count": 45,
   "metadata": {
    "ExecuteTime": {
     "end_time": "2018-02-01T06:08:54.875190Z",
     "start_time": "2018-02-01T06:05:43.762230Z"
    }
   },
   "outputs": [],
   "source": [
    "new_edge.repartition(1).saveAsTextFile(hdfs_workdir+'edge_onepart.csv')"
   ]
  },
  {
   "cell_type": "code",
   "execution_count": 118,
   "metadata": {
    "ExecuteTime": {
     "end_time": "2018-01-30T06:46:29.664778Z",
     "start_time": "2018-01-30T06:46:20.821556Z"
    }
   },
   "outputs": [
    {
     "data": {
      "text/plain": [
       "14065631"
      ]
     },
     "execution_count": 118,
     "metadata": {},
     "output_type": "execute_result"
    }
   ],
   "source": [
    "new_people.count()"
   ]
  },
  {
   "cell_type": "code",
   "execution_count": 213,
   "metadata": {
    "ExecuteTime": {
     "end_time": "2018-01-30T08:45:34.606115Z",
     "start_time": "2018-01-30T08:45:23.078252Z"
    }
   },
   "outputs": [
    {
     "data": {
      "text/plain": [
       "21905864"
      ]
     },
     "execution_count": 213,
     "metadata": {},
     "output_type": "execute_result"
    }
   ],
   "source": [
    "new_edge.count()"
   ]
  },
  {
   "cell_type": "code",
   "execution_count": 37,
   "metadata": {
    "ExecuteTime": {
     "end_time": "2018-02-01T06:00:46.235816Z",
     "start_time": "2018-02-01T06:00:46.103640Z"
    }
   },
   "outputs": [],
   "source": [
    "df_edge = spark.read.csv(hdfs_workdir+edge_name+'/*.csv',schema=edge_df.schema)"
   ]
  },
  {
   "cell_type": "code",
   "execution_count": 38,
   "metadata": {
    "ExecuteTime": {
     "end_time": "2018-02-01T06:01:00.672569Z",
     "start_time": "2018-02-01T06:00:54.585301Z"
    }
   },
   "outputs": [
    {
     "data": {
      "text/plain": [
       "38874765"
      ]
     },
     "execution_count": 38,
     "metadata": {},
     "output_type": "execute_result"
    }
   ],
   "source": [
    "df_edge.count()"
   ]
  },
  {
   "cell_type": "code",
   "execution_count": 141,
   "metadata": {
    "ExecuteTime": {
     "end_time": "2018-01-30T06:59:55.847053Z",
     "start_time": "2018-01-30T06:59:55.832119Z"
    }
   },
   "outputs": [],
   "source": [
    "df_edge2 = df_edge.filter((df_edge.dst=='18868112289'))"
   ]
  },
  {
   "cell_type": "code",
   "execution_count": 39,
   "metadata": {
    "ExecuteTime": {
     "end_time": "2018-02-01T06:01:21.673752Z",
     "start_time": "2018-02-01T06:01:21.605637Z"
    }
   },
   "outputs": [],
   "source": [
    "df_people = spark.read.csv(hdfs_workdir+vertex_name+'/*.csv',schema=people_df.schema)"
   ]
  },
  {
   "cell_type": "code",
   "execution_count": 40,
   "metadata": {
    "ExecuteTime": {
     "end_time": "2018-02-01T06:01:37.562307Z",
     "start_time": "2018-02-01T06:01:34.550203Z"
    }
   },
   "outputs": [
    {
     "data": {
      "text/plain": [
       "24000496"
      ]
     },
     "execution_count": 40,
     "metadata": {},
     "output_type": "execute_result"
    }
   ],
   "source": [
    "df_people.count()"
   ]
  },
  {
   "cell_type": "code",
   "execution_count": 161,
   "metadata": {
    "ExecuteTime": {
     "end_time": "2018-01-30T07:21:55.403325Z",
     "start_time": "2018-01-30T07:21:55.359345Z"
    }
   },
   "outputs": [
    {
     "data": {
      "text/plain": [
       "DataFrame[user_mobile: string, real_name: string, identity_code: string, channel_src: string, channel_attr: string, created_time: string, channel_type: string, channel_code: string, file_people: boolean]"
      ]
     },
     "execution_count": 161,
     "metadata": {},
     "output_type": "execute_result"
    }
   ],
   "source": [
    "df_people.persist()"
   ]
  },
  {
   "cell_type": "code",
   "execution_count": null,
   "metadata": {},
   "outputs": [],
   "source": [
    "df_people."
   ]
  },
  {
   "cell_type": "code",
   "execution_count": 193,
   "metadata": {
    "ExecuteTime": {
     "end_time": "2018-01-30T07:39:45.160354Z",
     "start_time": "2018-01-30T07:39:45.151269Z"
    },
    "scrolled": true
   },
   "outputs": [],
   "source": [
    "df_people.createOrReplaceTempView(\"newpeople\")\n"
   ]
  },
  {
   "cell_type": "code",
   "execution_count": 205,
   "metadata": {
    "ExecuteTime": {
     "end_time": "2018-01-30T07:43:34.288789Z",
     "start_time": "2018-01-30T07:43:34.267282Z"
    }
   },
   "outputs": [],
   "source": [
    "df_people2 = spark.sql('select * from newpeople where _c14 == True')"
   ]
  }
 ],
 "metadata": {
  "kernelspec": {
   "display_name": "Python 3",
   "language": "python",
   "name": "python3"
  },
  "language_info": {
   "codemirror_mode": {
    "name": "ipython",
    "version": 3
   },
   "file_extension": ".py",
   "mimetype": "text/x-python",
   "name": "python",
   "nbconvert_exporter": "python",
   "pygments_lexer": "ipython3",
   "version": "3.6.3"
  },
  "toc": {
   "nav_menu": {},
   "number_sections": true,
   "sideBar": true,
   "skip_h1_title": false,
   "toc_cell": false,
   "toc_position": {},
   "toc_section_display": "block",
   "toc_window_display": false
  }
 },
 "nbformat": 4,
 "nbformat_minor": 2
}
