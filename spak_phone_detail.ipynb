{
 "cells": [
  {
   "cell_type": "markdown",
   "metadata": {},
   "source": [
    "# spark 设置"
   ]
  },
  {
   "cell_type": "code",
   "execution_count": 6,
   "metadata": {
    "ExecuteTime": {
     "end_time": "2018-01-12T14:56:20.294652",
     "start_time": "2018-01-12T14:56:20.291207"
    },
    "collapsed": true
   },
   "outputs": [],
   "source": [
    "import os\n",
    "os.environ['PYSPARK_DRIVER_PYTHON']='python3'\n",
    "os.environ['PYSPARK_PYTHON']='python3'\n",
    "from pyspark import SparkConf, SparkContext\n",
    "conf = SparkConf().setMaster(\"locals[*]\").setAppName(\"spark_phone_detail\")"
   ]
  },
  {
   "cell_type": "code",
   "execution_count": 147,
   "metadata": {
    "ExecuteTime": {
     "end_time": "2017-11-07T20:14:27.074152",
     "start_time": "2017-11-07T20:14:27.071176"
    },
    "collapsed": true
   },
   "outputs": [],
   "source": [
    "def toCSVLine(data):\n",
    "  return ','.join(str(d) for d in data)\n"
   ]
  },
  {
   "cell_type": "markdown",
   "metadata": {},
   "source": [
    "# 探索文件结构"
   ]
  },
  {
   "cell_type": "markdown",
   "metadata": {},
   "source": [
    "## 文件残缺检验"
   ]
  },
  {
   "cell_type": "code",
   "execution_count": 24,
   "metadata": {
    "ExecuteTime": {
     "end_time": "2017-11-14T14:07:26.308794",
     "start_time": "2017-11-14T14:07:26.304187"
    }
   },
   "outputs": [],
   "source": [
    "import json\n",
    "from  hashlib import md5\n",
    "from functools import reduce\n",
    "import pandas as pd\n",
    "def funcs(X):\n",
    "    X_json = json.loads(X)\n",
    "        #key = ''.join(X_json['task_data'].keys())\n",
    "        #hashobj = md5(''.join(X_json['task_data'].keys()).encode('utf8')).hexdigest()\n",
    "    try:\n",
    "        return X_json['channel_attr'],X_json['channel_code'],\n",
    "    except Exception as e:\n",
    "        return e\n",
    "\n",
    "mergeFile = open('phone_detail.txt','r')\n",
    "\n",
    "mergeFile.close()"
   ]
  },
  {
   "cell_type": "markdown",
   "metadata": {},
   "source": [
    "## Call_info"
   ]
  },
  {
   "cell_type": "code",
   "execution_count": null,
   "metadata": {
    "ExecuteTime": {
     "end_time": "2017-11-16T11:06:21.890133",
     "start_time": "2017-11-16T11:06:21.262343"
    }
   },
   "outputs": [],
   "source": [
    "mergeFile = open('phone_detail.txt','r')\n",
    "raw_json = mergeFile.readline()\n",
    "A_json = json.loads(raw_json)\n",
    "call_list = [x['call_record'] for x in A_json['task_data']['call_info']]\n",
    "ret_all = reduce(lambda x,y:x+y,call_list)\n",
    "pd_df = pd.DataFrame(ret_all)\n",
    "mergeFile.close()\n",
    "pd_df.head()"
   ]
  },
  {
   "cell_type": "markdown",
   "metadata": {},
   "source": [
    "## account_info"
   ]
  },
  {
   "cell_type": "code",
   "execution_count": null,
   "metadata": {
    "ExecuteTime": {
     "end_time": "2017-11-16T11:08:05.148928",
     "start_time": "2017-11-16T11:07:54.976489"
    }
   },
   "outputs": [],
   "source": [
    "mergeFile_account = open('phone_detail.txt','r')\n",
    "account_list = []\n",
    "while  True:\n",
    "    raw_json = mergeFile_account.readline()\n",
    "    if raw_json:\n",
    "        A_json = json.loads(raw_json)\n",
    "        account_list.append(A_json['task_data']['account_info'])\n",
    "    else:\n",
    "        break\n",
    "mergeFile_account.close()\n",
    "pd_dfaccount = pd.DataFrame(account_list)\n",
    "pd_dfaccount.head()"
   ]
  },
  {
   "cell_type": "markdown",
   "metadata": {},
   "source": [
    "## sms_info "
   ]
  },
  {
   "cell_type": "code",
   "execution_count": null,
   "metadata": {
    "ExecuteTime": {
     "end_time": "2017-11-16T11:08:32.128261",
     "start_time": "2017-11-16T11:08:32.021708"
    }
   },
   "outputs": [],
   "source": [
    "mergeFile_sms = open('phone_detail.txt','r')\n",
    "\n",
    "raw_json = mergeFile_sms.readline()\n",
    "A_json = json.loads(raw_json)\n",
    "call_list = [x['sms_record'] for x in A_json['task_data']['sms_info']]\n",
    "ret_all = reduce(lambda x,y:x+y,call_list)\n",
    "pd_dfsam = pd.DataFrame(ret_all)\n",
    "pdsms11 = pd_dfsam[pd_dfsam.msg_other_num.str.len()==11]\n",
    "print(pdsms11.shape,pdsms11.msg_other_num.nunique())\n",
    "mergeFile_sms.close()\n",
    "pdsms11.head(5)\n"
   ]
  },
  {
   "cell_type": "markdown",
   "metadata": {},
   "source": [
    "## 通信号码种类\n",
    "* 我们仅仅需要这些用户的自然人通话记录"
   ]
  },
  {
   "cell_type": "raw",
   "metadata": {
    "collapsed": true
   },
   "source": [
    "call_address:\n",
    "    1，未知\n",
    "call_other_number\n",
    "    1,662 短号，家庭号\n",
    "    2，未知\n",
    "    3，95533\n",
    "    4，4007777777\n",
    "    5，051280837576\n",
    "    6，9521290206\n",
    "    7，664070\n",
    "    8，10085\n",
    "    9，158********\n",
    "    10，125909888218\n",
    "    11，12583113737263903\n",
    "## 地址聚合 作为顶点属性：\n",
    "   非手机号码，聚合分类作为个数\n",
    "\n",
    "自己给自己打电话，这个这么处理？\n"
   ]
  },
  {
   "cell_type": "markdown",
   "metadata": {},
   "source": [
    "# spark 处理"
   ]
  },
  {
   "cell_type": "markdown",
   "metadata": {},
   "source": [
    "## 加载，转化通话记录"
   ]
  },
  {
   "cell_type": "code",
   "execution_count": 3,
   "metadata": {
    "ExecuteTime": {
     "end_time": "2018-01-15T09:16:22.018638Z",
     "start_time": "2018-01-15T09:16:22.013677Z"
    }
   },
   "outputs": [],
   "source": [
    "path_prefix = 'hdfs://192.180.3.43:9000/user/app/'"
   ]
  },
  {
   "cell_type": "code",
   "execution_count": 4,
   "metadata": {
    "ExecuteTime": {
     "end_time": "2018-01-15T09:16:23.426041Z",
     "start_time": "2018-01-15T09:16:23.013700Z"
    }
   },
   "outputs": [],
   "source": [
    "#one_log = sc.textFile('hdfs://192.170.3.163:9000/backup/2017_11_02_04_35_11-19292.debug.log')\n",
    "phone_detail = sc.textFile(path_prefix+'merge_201606.txt')"
   ]
  },
  {
   "cell_type": "code",
   "execution_count": 5,
   "metadata": {
    "ExecuteTime": {
     "end_time": "2018-01-15T09:16:26.672524Z",
     "start_time": "2018-01-15T09:16:26.637263Z"
    }
   },
   "outputs": [],
   "source": [
    "import json\n",
    "from functools import reduce\n",
    "def first_func(item):\n",
    "    user_mobile = None\n",
    "    try:\n",
    "        A_json = json.loads(item)\n",
    "        user_mobile = A_json.get('user_mobile')\n",
    "        call_list = [x['call_record'] for x in A_json['task_data']['call_info']]\n",
    "        all_call = reduce(lambda x,y:x+y,call_list)\n",
    "        all_call = [((item.get('call_other_number'),item.get('call_start_time')),\n",
    "                     (item.get('call_address'),int(item.get('call_time')),item.get('call_type_name'),user_mobile))\n",
    "                    for item in all_call]\n",
    "        return user_mobile,all_call\n",
    "    except Exception as e:\n",
    "        with open('/home/app/zx_error.log','a') as f:\n",
    "            f.writelines(user_mobile+','+str(e)+'\\n')\n",
    "        return user_mobile,[]"
   ]
  },
  {
   "cell_type": "code",
   "execution_count": 6,
   "metadata": {
    "ExecuteTime": {
     "end_time": "2018-01-15T09:16:27.115219Z",
     "start_time": "2018-01-15T09:16:27.109572Z"
    }
   },
   "outputs": [],
   "source": [
    "def remove_null(item):\n",
    "    return bool(item.strip())"
   ]
  },
  {
   "cell_type": "code",
   "execution_count": 7,
   "metadata": {
    "ExecuteTime": {
     "end_time": "2018-01-15T09:16:32.362780Z",
     "start_time": "2018-01-15T09:16:32.357413Z"
    }
   },
   "outputs": [],
   "source": [
    "rdd1 = phone_detail.filter(remove_null)"
   ]
  },
  {
   "cell_type": "code",
   "execution_count": 8,
   "metadata": {
    "ExecuteTime": {
     "end_time": "2018-01-15T09:16:32.754965Z",
     "start_time": "2018-01-15T09:16:32.749227Z"
    }
   },
   "outputs": [],
   "source": [
    "rdd11 = rdd1.map(first_func).filter(lambda x:bool(x[1]))"
   ]
  },
  {
   "cell_type": "code",
   "execution_count": 9,
   "metadata": {
    "ExecuteTime": {
     "end_time": "2018-01-15T09:16:36.851107Z",
     "start_time": "2018-01-15T09:16:36.605090Z"
    },
    "scrolled": true
   },
   "outputs": [
    {
     "data": {
      "text/plain": [
       "PythonRDD[6] at RDD at PythonRDD.scala:48"
      ]
     },
     "execution_count": 9,
     "metadata": {},
     "output_type": "execute_result"
    }
   ],
   "source": [
    "#根据用户手机号合并统一用户不同日期文件\n",
    "rdd2 = rdd11.reduceByKey(lambda x,y:list(dict(x+y).items()))\n",
    "rdd2.persist()"
   ]
  },
  {
   "cell_type": "markdown",
   "metadata": {},
   "source": [
    "### 统计个人通话次数，利用等个人属性"
   ]
  },
  {
   "cell_type": "code",
   "execution_count": 10,
   "metadata": {
    "ExecuteTime": {
     "end_time": "2018-01-15T09:16:43.496042Z",
     "start_time": "2018-01-15T09:16:43.462331Z"
    }
   },
   "outputs": [],
   "source": [
    "def person_attr_func(item):\n",
    "    #print(item[0],end=';')\n",
    "    add_list = [address for k,(address,*other) in item[1]]\n",
    "    address_dict={k:add_list.count(k) for k in set(add_list)}\n",
    "    call_count = len(item[1]) if len(item[1])>0 else 0.00001\n",
    "    calltime_sum = sum([int(times) for k,(a,times,*b) in item[1]])\n",
    "    calltime_mean = calltime_sum/call_count\n",
    "    \n",
    "    return item[0],call_count,calltime_sum,calltime_mean,address_dict\n",
    "    \n",
    "\n",
    "rdd21 = rdd2.map(person_attr_func)"
   ]
  },
  {
   "cell_type": "code",
   "execution_count": 19,
   "metadata": {
    "ExecuteTime": {
     "end_time": "2018-01-15T08:52:20.580618Z",
     "start_time": "2018-01-15T08:52:04.224891Z"
    }
   },
   "outputs": [],
   "source": [
    "rdd21.repartition(1).saveAsTextFile(path_prefix+'person_attr4.txt')"
   ]
  },
  {
   "cell_type": "code",
   "execution_count": 12,
   "metadata": {
    "ExecuteTime": {
     "end_time": "2018-01-15T09:17:48.956680Z",
     "start_time": "2018-01-15T09:17:48.951039Z"
    }
   },
   "outputs": [],
   "source": [
    "#from pyspark.sql import SparkSession\n",
    "from pyspark.sql.types import *\n",
    "#spark = SparkSession(sc)"
   ]
  },
  {
   "cell_type": "code",
   "execution_count": 13,
   "metadata": {
    "ExecuteTime": {
     "end_time": "2018-01-15T09:17:50.372930Z",
     "start_time": "2018-01-15T09:17:49.871779Z"
    }
   },
   "outputs": [],
   "source": [
    "schemaString= \"user_mobile call_count calltime_sum calltime_mean address_dict\"\n",
    "TypeString = [StringType(),IntegerType(),IntegerType(),FloatType(),StringType()]\n",
    "fields = [StructField(field_name, Type, True) for field_name,Type in zip(schemaString.split(),TypeString)]\n",
    "schema = StructType(fields)\n",
    "# Apply the schema to the RDD.\n",
    "people_attr_df = spark.createDataFrame(rdd21, schema)\n"
   ]
  },
  {
   "cell_type": "markdown",
   "metadata": {},
   "source": [
    "## 去除无用通话记录"
   ]
  },
  {
   "cell_type": "markdown",
   "metadata": {},
   "source": [
    "### 去除通话列表无关属性"
   ]
  },
  {
   "cell_type": "code",
   "execution_count": 18,
   "metadata": {
    "ExecuteTime": {
     "end_time": "2018-01-15T09:20:06.295930Z",
     "start_time": "2018-01-15T09:20:06.263155Z"
    }
   },
   "outputs": [
    {
     "data": {
      "text/plain": [
       "PythonRDD[37] at RDD at PythonRDD.scala:48"
      ]
     },
     "execution_count": 18,
     "metadata": {},
     "output_type": "execute_result"
    }
   ],
   "source": [
    "rdd24 = rdd2.flatMap(lambda x:x[1])\n",
    "rdd25 = rdd24.map(lambda x:(x[0][0],int(x[1][1]),x[1][2],x[1][3]))\n",
    "rdd25.persist()"
   ]
  },
  {
   "cell_type": "markdown",
   "metadata": {},
   "source": [
    "### 统计通话记录号码性质"
   ]
  },
  {
   "cell_type": "code",
   "execution_count": 19,
   "metadata": {
    "ExecuteTime": {
     "end_time": "2018-01-15T09:20:12.739469Z",
     "start_time": "2018-01-15T09:20:12.189021Z"
    }
   },
   "outputs": [],
   "source": [
    "schemaString= \"call_other_number call_time call_type_name use_mobile\"\n",
    "TypeString = [StringType(),IntegerType(),StringType(),StringType()]\n",
    "fields = [StructField(field_name, Type, True) for field_name,Type in zip(schemaString.split(),TypeString)]\n",
    "schema = StructType(fields)\n",
    "# Apply the schema to the RDD.\n",
    "phonelist_df = spark.createDataFrame(rdd25, schema)\n",
    "# Creates a temporary view using the DataFrame\n",
    "phonelist_df.createOrReplaceTempView(\"phonelist\")\n",
    "# SQL can be run over DataFrames that have been registered as a table.\n",
    "numstat_df = spark.sql(\"SELECT substring(call_other_number,0,3) otherphone_3,length(call_other_number) len FROM phonelist\")\n",
    "numstat_df.createOrReplaceTempView(\"numstat\")\n",
    "ret1 = spark.sql('select otherphone_3,len,count(*) cnt from numstat where len = 11  group by otherphone_3,len order by otherphone_3,cnt ')\n",
    "ret2 = spark.sql('select * from numstat where substring(otherphone_3,0,1)=\"1\" and len = 11')"
   ]
  },
  {
   "cell_type": "markdown",
   "metadata": {},
   "source": [
    "### 自己给自己打电话记录数量占比"
   ]
  },
  {
   "cell_type": "code",
   "execution_count": 20,
   "metadata": {
    "ExecuteTime": {
     "end_time": "2018-01-15T09:20:23.811619Z",
     "start_time": "2018-01-15T09:20:23.805329Z"
    }
   },
   "outputs": [],
   "source": [
    "rdd251 = rdd25.filter(lambda x:x[0]==x[3])\n",
    "#rdd251.collect()"
   ]
  },
  {
   "cell_type": "markdown",
   "metadata": {},
   "source": [
    "### 开头不为1的电话记录数量占比"
   ]
  },
  {
   "cell_type": "code",
   "execution_count": 21,
   "metadata": {
    "ExecuteTime": {
     "end_time": "2018-01-15T09:20:27.198318Z",
     "start_time": "2018-01-15T09:20:27.192274Z"
    }
   },
   "outputs": [],
   "source": [
    "rdd252 = rdd25.filter(lambda x:x[0][0]!='1')\n",
    "#rdd252.count()"
   ]
  },
  {
   "cell_type": "markdown",
   "metadata": {},
   "source": [
    "### 长度不是11位的"
   ]
  },
  {
   "cell_type": "code",
   "execution_count": 22,
   "metadata": {
    "ExecuteTime": {
     "end_time": "2018-01-15T09:20:29.251043Z",
     "start_time": "2018-01-15T09:20:29.244760Z"
    }
   },
   "outputs": [],
   "source": [
    "rdd253 = rdd25.filter(lambda x:len(x[0])!=11)\n",
    "#rdd253.count()"
   ]
  },
  {
   "cell_type": "markdown",
   "metadata": {},
   "source": [
    "### Type 不是主叫被叫的"
   ]
  },
  {
   "cell_type": "code",
   "execution_count": 23,
   "metadata": {
    "ExecuteTime": {
     "end_time": "2018-01-15T09:20:31.788854Z",
     "start_time": "2018-01-15T09:20:31.782153Z"
    }
   },
   "outputs": [],
   "source": [
    "rdd254 = rdd25.filter(lambda x:x[2] not in ('被叫','主叫'))\n",
    "#rdd254.take(40)"
   ]
  },
  {
   "cell_type": "code",
   "execution_count": 1732,
   "metadata": {
    "ExecuteTime": {
     "end_time": "2017-11-16T15:05:40.894598",
     "start_time": "2017-11-16T15:05:40.185686"
    }
   },
   "outputs": [
    {
     "data": {
      "text/plain": [
       "2"
      ]
     },
     "execution_count": 1732,
     "metadata": {},
     "output_type": "execute_result"
    }
   ],
   "source": [
    "rdd254.map(lambda x:x[2]).distinct().count()"
   ]
  },
  {
   "cell_type": "markdown",
   "metadata": {},
   "source": [
    "### 去除非人类记录，保留合法号码"
   ]
  },
  {
   "cell_type": "code",
   "execution_count": 24,
   "metadata": {
    "ExecuteTime": {
     "end_time": "2018-01-15T09:20:37.131114Z",
     "start_time": "2018-01-15T09:20:37.124134Z"
    }
   },
   "outputs": [],
   "source": [
    "def remove_nonhumanlist_func(item):\n",
    "     not(((item[0][0])=='1') or (len(item[0])==11) or (item[0]==item[3]))"
   ]
  },
  {
   "cell_type": "code",
   "execution_count": 25,
   "metadata": {
    "ExecuteTime": {
     "end_time": "2018-01-15T09:20:37.693132Z",
     "start_time": "2018-01-15T09:20:37.686054Z"
    }
   },
   "outputs": [],
   "source": [
    "rdd26 = rdd25.filter(lambda item:(((item[0][0]=='1') and (len(item[0])==11)\n",
    "                                   and (item[0]!=item[3]) and (item[1]>0))))"
   ]
  },
  {
   "cell_type": "markdown",
   "metadata": {},
   "source": [
    "### 检查自己给自己打电话记录详情"
   ]
  },
  {
   "cell_type": "code",
   "execution_count": 26,
   "metadata": {
    "ExecuteTime": {
     "end_time": "2018-01-15T09:20:40.839717Z",
     "start_time": "2018-01-15T09:20:40.820891Z"
    },
    "code_folding": [
     0
    ]
   },
   "outputs": [],
   "source": [
    "def flat_func2(item):\n",
    "    num_list = [(k[0],item[0],k,v) for k,v in item[1]]\n",
    "    return set(num_list)\n",
    "\n",
    "rdd2a = rdd2.flatMap(flat_func2)\n",
    "\n",
    "rdd2b = rdd2a.filter(lambda x:x[0]==x[1])\n",
    "\n",
    "#rdd2a.take(10)"
   ]
  },
  {
   "cell_type": "markdown",
   "metadata": {},
   "source": [
    "### 检查  相互打电话重复记录"
   ]
  },
  {
   "cell_type": "code",
   "execution_count": 27,
   "metadata": {
    "ExecuteTime": {
     "end_time": "2018-01-15T09:20:44.336847Z",
     "start_time": "2018-01-15T09:20:44.269017Z"
    },
    "code_folding": [
     0,
     10
    ]
   },
   "outputs": [],
   "source": [
    "def ori_des_rep_check(x):\n",
    "    return ((x[0]=='15876143316')&(x[1]=='13621455614'))|((x[1]=='15876143316')&(x[0]=='13621455614'))\n",
    "rdd2C1 = rdd2a.filter(ori_des_rep_check)\n",
    "\n",
    "#rdd2C1.count()\n",
    "\n",
    "rdd2C2 = rdd2C1.map(lambda x:(x[1],x[2],x[3]))\n",
    "\n",
    "rdd2C2.persist()\n",
    "\n",
    "def addjust_order(item):\n",
    "    phone1,(phone2,dt),(area,times,Type) = item\n",
    "    file_phone = phone1\n",
    "    if Type == '被叫':\n",
    "        phone1,phone2=phone2,phone1\n",
    "    return file_phone,phone1,phone2,dt,area,times,Type\n",
    "    \n",
    "rdd2C3 = rdd2C2.map(addjust_order)"
   ]
  },
  {
   "cell_type": "code",
   "execution_count": 75,
   "metadata": {
    "ExecuteTime": {
     "end_time": "2018-01-12T09:18:41.576714Z",
     "start_time": "2018-01-12T09:18:20.873669Z"
    },
    "code_folding": [
     0
    ],
    "collapsed": true
   },
   "outputs": [
    {
     "ename": "KeyboardInterrupt",
     "evalue": "",
     "output_type": "error",
     "traceback": [
      "\u001b[0;31m-----------------------------------------------------------------\u001b[0m",
      "\u001b[0;31mKeyboardInterrupt\u001b[0m               Traceback (most recent call last)",
      "\u001b[0;32m<ipython-input-75-184931e67bce>\u001b[0m in \u001b[0;36m<module>\u001b[0;34m()\u001b[0m\n\u001b[1;32m     17\u001b[0m \u001b[0;34m\u001b[0m\u001b[0m\n\u001b[1;32m     18\u001b[0m \u001b[0mrdd2C3\u001b[0m \u001b[0;34m=\u001b[0m \u001b[0mrdd2C2\u001b[0m\u001b[0;34m.\u001b[0m\u001b[0mmap\u001b[0m\u001b[0;34m(\u001b[0m\u001b[0maddjust_order\u001b[0m\u001b[0;34m)\u001b[0m\u001b[0;34m\u001b[0m\u001b[0m\n\u001b[0;32m---> 19\u001b[0;31m \u001b[0mresult\u001b[0m \u001b[0;34m=\u001b[0m \u001b[0mrdd2C3\u001b[0m\u001b[0;34m.\u001b[0m\u001b[0mcollect\u001b[0m\u001b[0;34m(\u001b[0m\u001b[0;34m)\u001b[0m\u001b[0;34m\u001b[0m\u001b[0m\n\u001b[0m\u001b[1;32m     20\u001b[0m \u001b[0;34m\u001b[0m\u001b[0m\n\u001b[1;32m     21\u001b[0m \u001b[0mdf_result\u001b[0m \u001b[0;34m=\u001b[0m \u001b[0mpd\u001b[0m\u001b[0;34m.\u001b[0m\u001b[0mDataFrame\u001b[0m\u001b[0;34m(\u001b[0m\u001b[0mresult\u001b[0m\u001b[0;34m,\u001b[0m\u001b[0mcolumns\u001b[0m\u001b[0;34m=\u001b[0m\u001b[0;34m[\u001b[0m\u001b[0;34m'file_phone'\u001b[0m\u001b[0;34m,\u001b[0m\u001b[0;34m'phone1'\u001b[0m\u001b[0;34m,\u001b[0m\u001b[0;34m'phone2'\u001b[0m\u001b[0;34m,\u001b[0m\u001b[0;34m'dt'\u001b[0m\u001b[0;34m,\u001b[0m\u001b[0;34m'area'\u001b[0m\u001b[0;34m,\u001b[0m\u001b[0;34m'times'\u001b[0m\u001b[0;34m,\u001b[0m\u001b[0;34m'Type'\u001b[0m\u001b[0;34m]\u001b[0m\u001b[0;34m)\u001b[0m\u001b[0;34m\u001b[0m\u001b[0m\n",
      "\u001b[0;32m/usr/spark/python/pyspark/rdd.py\u001b[0m in \u001b[0;36mcollect\u001b[0;34m(self)\u001b[0m\n\u001b[1;32m    807\u001b[0m         \"\"\"\n\u001b[1;32m    808\u001b[0m         \u001b[0;32mwith\u001b[0m \u001b[0mSCCallSiteSync\u001b[0m\u001b[0;34m(\u001b[0m\u001b[0mself\u001b[0m\u001b[0;34m.\u001b[0m\u001b[0mcontext\u001b[0m\u001b[0;34m)\u001b[0m \u001b[0;32mas\u001b[0m \u001b[0mcss\u001b[0m\u001b[0;34m:\u001b[0m\u001b[0;34m\u001b[0m\u001b[0m\n\u001b[0;32m--> 809\u001b[0;31m             \u001b[0mport\u001b[0m \u001b[0;34m=\u001b[0m \u001b[0mself\u001b[0m\u001b[0;34m.\u001b[0m\u001b[0mctx\u001b[0m\u001b[0;34m.\u001b[0m\u001b[0m_jvm\u001b[0m\u001b[0;34m.\u001b[0m\u001b[0mPythonRDD\u001b[0m\u001b[0;34m.\u001b[0m\u001b[0mcollectAndServe\u001b[0m\u001b[0;34m(\u001b[0m\u001b[0mself\u001b[0m\u001b[0;34m.\u001b[0m\u001b[0m_jrdd\u001b[0m\u001b[0;34m.\u001b[0m\u001b[0mrdd\u001b[0m\u001b[0;34m(\u001b[0m\u001b[0;34m)\u001b[0m\u001b[0;34m)\u001b[0m\u001b[0;34m\u001b[0m\u001b[0m\n\u001b[0m\u001b[1;32m    810\u001b[0m         \u001b[0;32mreturn\u001b[0m \u001b[0mlist\u001b[0m\u001b[0;34m(\u001b[0m\u001b[0m_load_from_socket\u001b[0m\u001b[0;34m(\u001b[0m\u001b[0mport\u001b[0m\u001b[0;34m,\u001b[0m \u001b[0mself\u001b[0m\u001b[0;34m.\u001b[0m\u001b[0m_jrdd_deserializer\u001b[0m\u001b[0;34m)\u001b[0m\u001b[0;34m)\u001b[0m\u001b[0;34m\u001b[0m\u001b[0m\n\u001b[1;32m    811\u001b[0m \u001b[0;34m\u001b[0m\u001b[0m\n",
      "\u001b[0;32m/usr/spark/python/lib/py4j-0.10.4-src.zip/py4j/java_gateway.py\u001b[0m in \u001b[0;36m__call__\u001b[0;34m(self, *args)\u001b[0m\n\u001b[1;32m   1129\u001b[0m             \u001b[0mproto\u001b[0m\u001b[0;34m.\u001b[0m\u001b[0mEND_COMMAND_PART\u001b[0m\u001b[0;34m\u001b[0m\u001b[0m\n\u001b[1;32m   1130\u001b[0m \u001b[0;34m\u001b[0m\u001b[0m\n\u001b[0;32m-> 1131\u001b[0;31m         \u001b[0manswer\u001b[0m \u001b[0;34m=\u001b[0m \u001b[0mself\u001b[0m\u001b[0;34m.\u001b[0m\u001b[0mgateway_client\u001b[0m\u001b[0;34m.\u001b[0m\u001b[0msend_command\u001b[0m\u001b[0;34m(\u001b[0m\u001b[0mcommand\u001b[0m\u001b[0;34m)\u001b[0m\u001b[0;34m\u001b[0m\u001b[0m\n\u001b[0m\u001b[1;32m   1132\u001b[0m         return_value = get_return_value(\n\u001b[1;32m   1133\u001b[0m             answer, self.gateway_client, self.target_id, self.name)\n",
      "\u001b[0;32m/usr/spark/python/lib/py4j-0.10.4-src.zip/py4j/java_gateway.py\u001b[0m in \u001b[0;36msend_command\u001b[0;34m(self, command, retry, binary)\u001b[0m\n\u001b[1;32m    881\u001b[0m         \u001b[0mconnection\u001b[0m \u001b[0;34m=\u001b[0m \u001b[0mself\u001b[0m\u001b[0;34m.\u001b[0m\u001b[0m_get_connection\u001b[0m\u001b[0;34m(\u001b[0m\u001b[0;34m)\u001b[0m\u001b[0;34m\u001b[0m\u001b[0m\n\u001b[1;32m    882\u001b[0m         \u001b[0;32mtry\u001b[0m\u001b[0;34m:\u001b[0m\u001b[0;34m\u001b[0m\u001b[0m\n\u001b[0;32m--> 883\u001b[0;31m             \u001b[0mresponse\u001b[0m \u001b[0;34m=\u001b[0m \u001b[0mconnection\u001b[0m\u001b[0;34m.\u001b[0m\u001b[0msend_command\u001b[0m\u001b[0;34m(\u001b[0m\u001b[0mcommand\u001b[0m\u001b[0;34m)\u001b[0m\u001b[0;34m\u001b[0m\u001b[0m\n\u001b[0m\u001b[1;32m    884\u001b[0m             \u001b[0;32mif\u001b[0m \u001b[0mbinary\u001b[0m\u001b[0;34m:\u001b[0m\u001b[0;34m\u001b[0m\u001b[0m\n\u001b[1;32m    885\u001b[0m                 \u001b[0;32mreturn\u001b[0m \u001b[0mresponse\u001b[0m\u001b[0;34m,\u001b[0m \u001b[0mself\u001b[0m\u001b[0;34m.\u001b[0m\u001b[0m_create_connection_guard\u001b[0m\u001b[0;34m(\u001b[0m\u001b[0mconnection\u001b[0m\u001b[0;34m)\u001b[0m\u001b[0;34m\u001b[0m\u001b[0m\n",
      "\u001b[0;32m/usr/spark/python/lib/py4j-0.10.4-src.zip/py4j/java_gateway.py\u001b[0m in \u001b[0;36msend_command\u001b[0;34m(self, command)\u001b[0m\n\u001b[1;32m   1026\u001b[0m \u001b[0;34m\u001b[0m\u001b[0m\n\u001b[1;32m   1027\u001b[0m         \u001b[0;32mtry\u001b[0m\u001b[0;34m:\u001b[0m\u001b[0;34m\u001b[0m\u001b[0m\n\u001b[0;32m-> 1028\u001b[0;31m             \u001b[0manswer\u001b[0m \u001b[0;34m=\u001b[0m \u001b[0msmart_decode\u001b[0m\u001b[0;34m(\u001b[0m\u001b[0mself\u001b[0m\u001b[0;34m.\u001b[0m\u001b[0mstream\u001b[0m\u001b[0;34m.\u001b[0m\u001b[0mreadline\u001b[0m\u001b[0;34m(\u001b[0m\u001b[0;34m)\u001b[0m\u001b[0;34m[\u001b[0m\u001b[0;34m:\u001b[0m\u001b[0;34m-\u001b[0m\u001b[0;36m1\u001b[0m\u001b[0;34m]\u001b[0m\u001b[0;34m)\u001b[0m\u001b[0;34m\u001b[0m\u001b[0m\n\u001b[0m\u001b[1;32m   1029\u001b[0m             \u001b[0mlogger\u001b[0m\u001b[0;34m.\u001b[0m\u001b[0mdebug\u001b[0m\u001b[0;34m(\u001b[0m\u001b[0;34m\"Answer received: {0}\"\u001b[0m\u001b[0;34m.\u001b[0m\u001b[0mformat\u001b[0m\u001b[0;34m(\u001b[0m\u001b[0manswer\u001b[0m\u001b[0;34m)\u001b[0m\u001b[0;34m)\u001b[0m\u001b[0;34m\u001b[0m\u001b[0m\n\u001b[1;32m   1030\u001b[0m             \u001b[0;32mif\u001b[0m \u001b[0manswer\u001b[0m\u001b[0;34m.\u001b[0m\u001b[0mstartswith\u001b[0m\u001b[0;34m(\u001b[0m\u001b[0mproto\u001b[0m\u001b[0;34m.\u001b[0m\u001b[0mRETURN_MESSAGE\u001b[0m\u001b[0;34m)\u001b[0m\u001b[0;34m:\u001b[0m\u001b[0;34m\u001b[0m\u001b[0m\n",
      "\u001b[0;32m/usr/local/lib/python3.6/socket.py\u001b[0m in \u001b[0;36mreadinto\u001b[0;34m(self, b)\u001b[0m\n\u001b[1;32m    584\u001b[0m         \u001b[0;32mwhile\u001b[0m \u001b[0;32mTrue\u001b[0m\u001b[0;34m:\u001b[0m\u001b[0;34m\u001b[0m\u001b[0m\n\u001b[1;32m    585\u001b[0m             \u001b[0;32mtry\u001b[0m\u001b[0;34m:\u001b[0m\u001b[0;34m\u001b[0m\u001b[0m\n\u001b[0;32m--> 586\u001b[0;31m                 \u001b[0;32mreturn\u001b[0m \u001b[0mself\u001b[0m\u001b[0;34m.\u001b[0m\u001b[0m_sock\u001b[0m\u001b[0;34m.\u001b[0m\u001b[0mrecv_into\u001b[0m\u001b[0;34m(\u001b[0m\u001b[0mb\u001b[0m\u001b[0;34m)\u001b[0m\u001b[0;34m\u001b[0m\u001b[0m\n\u001b[0m\u001b[1;32m    587\u001b[0m             \u001b[0;32mexcept\u001b[0m \u001b[0mtimeout\u001b[0m\u001b[0;34m:\u001b[0m\u001b[0;34m\u001b[0m\u001b[0m\n\u001b[1;32m    588\u001b[0m                 \u001b[0mself\u001b[0m\u001b[0;34m.\u001b[0m\u001b[0m_timeout_occurred\u001b[0m \u001b[0;34m=\u001b[0m \u001b[0;32mTrue\u001b[0m\u001b[0;34m\u001b[0m\u001b[0m\n",
      "\u001b[0;31mKeyboardInterrupt\u001b[0m: "
     ]
    }
   ],
   "source": [
    "\n",
    "#result = rdd2C3.collect()\n",
    "\n",
    "df_result = pd.DataFrame(result,columns=['file_phone','phone1','phone2','dt','area','times','Type'])\n",
    "\n",
    "#pd.set_option('display.max_rows',100)\n",
    "\n",
    "df_result.sort_values('dt')"
   ]
  },
  {
   "cell_type": "markdown",
   "metadata": {},
   "source": [
    "## 生成有向边属性"
   ]
  },
  {
   "cell_type": "markdown",
   "metadata": {},
   "source": [
    "### 调整RDD内容"
   ]
  },
  {
   "cell_type": "code",
   "execution_count": 28,
   "metadata": {
    "ExecuteTime": {
     "end_time": "2018-01-15T09:20:50.986464Z",
     "start_time": "2018-01-15T09:20:50.948853Z"
    }
   },
   "outputs": [
    {
     "data": {
      "text/plain": [
       "PythonRDD[43] at RDD at PythonRDD.scala:48"
      ]
     },
     "execution_count": 28,
     "metadata": {},
     "output_type": "execute_result"
    }
   ],
   "source": [
    "def edge_adjust_func(item):\n",
    "    phone1,phone2 = (item[3],item[0]) if item[2]=='主叫' else (item[0],item[3])\n",
    "    return (phone1,phone2,item[3]),(item[1],1)\n",
    "    \n",
    "rdd3 = rdd26.map(edge_adjust_func)\n",
    "rdd3.persist()"
   ]
  },
  {
   "cell_type": "markdown",
   "metadata": {},
   "source": [
    "### 边聚合去重统计"
   ]
  },
  {
   "cell_type": "code",
   "execution_count": 29,
   "metadata": {
    "ExecuteTime": {
     "end_time": "2018-01-15T09:20:59.634789Z",
     "start_time": "2018-01-15T09:20:59.597968Z"
    }
   },
   "outputs": [],
   "source": [
    "# 分文件聚合两个人的通话记录\n",
    "rdd31 = rdd3.reduceByKey(lambda x,y:(x[0]+y[0],x[1]+y[1]))\n",
    "#rdd31.take(3)"
   ]
  },
  {
   "cell_type": "code",
   "execution_count": 30,
   "metadata": {
    "ExecuteTime": {
     "end_time": "2018-01-15T09:21:02.235568Z",
     "start_time": "2018-01-15T09:21:02.228799Z"
    }
   },
   "outputs": [],
   "source": [
    "# 按通话记录(区分主被叫)聚合通话记录\n",
    "rdd32 = rdd31.map(lambda x:((x[0][0],x[0][1]),x[1]))\n",
    "#rdd32.take(6)"
   ]
  },
  {
   "cell_type": "code",
   "execution_count": 31,
   "metadata": {
    "ExecuteTime": {
     "end_time": "2018-01-15T09:21:05.489328Z",
     "start_time": "2018-01-15T09:21:05.445310Z"
    }
   },
   "outputs": [],
   "source": [
    "## 去除不同文件重复记录\n",
    "rdd33 = rdd32.reduceByKey(lambda x,y:x if x[1]>y[1] else y)\n",
    "rdd34 = rdd33.map(lambda x:(x[0][0],x[0][1],x[1][0],x[1][1]))"
   ]
  },
  {
   "cell_type": "markdown",
   "metadata": {},
   "source": [
    "### 找出有重复记录数据"
   ]
  },
  {
   "cell_type": "code",
   "execution_count": 32,
   "metadata": {
    "ExecuteTime": {
     "end_time": "2018-01-15T09:21:11.006951Z",
     "start_time": "2018-01-15T09:21:10.966944Z"
    }
   },
   "outputs": [],
   "source": [
    "rdd321 = rdd32.map(lambda x:(x[0],1)).reduceByKey(lambda x,y:x+y).filter(lambda x:x[1]>1)"
   ]
  },
  {
   "cell_type": "code",
   "execution_count": 1788,
   "metadata": {
    "ExecuteTime": {
     "end_time": "2017-11-16T19:03:29.628848",
     "start_time": "2017-11-16T19:03:29.626776"
    },
    "collapsed": true
   },
   "outputs": [],
   "source": [
    "### 生成点边 DataFrame"
   ]
  },
  {
   "cell_type": "code",
   "execution_count": 33,
   "metadata": {
    "ExecuteTime": {
     "end_time": "2018-01-15T09:21:15.832127Z",
     "start_time": "2018-01-15T09:21:15.782858Z"
    }
   },
   "outputs": [],
   "source": [
    "schemaString= \"src dst calltime_sum calltime_cnt\"\n",
    "TypeString = [StringType(),StringType(),IntegerType(),IntegerType()]\n",
    "fields = [StructField(field_name, Type, True) for field_name,Type in zip(schemaString.split(),TypeString)]\n",
    "schema = StructType(fields)\n",
    "# Apply the schema to the RDD.\n",
    "edge_df = spark.createDataFrame(rdd34, schema)\n"
   ]
  },
  {
   "cell_type": "code",
   "execution_count": 34,
   "metadata": {
    "ExecuteTime": {
     "end_time": "2018-01-15T09:21:22.042105Z",
     "start_time": "2018-01-15T09:21:22.022076Z"
    },
    "scrolled": true
   },
   "outputs": [
    {
     "data": {
      "text/plain": [
       "DataFrame[src: string, dst: string, calltime_sum: int, calltime_cnt: int]"
      ]
     },
     "execution_count": 34,
     "metadata": {},
     "output_type": "execute_result"
    }
   ],
   "source": [
    "edge_df.persist()"
   ]
  },
  {
   "cell_type": "markdown",
   "metadata": {},
   "source": [
    "# 整理个人属性"
   ]
  },
  {
   "cell_type": "code",
   "execution_count": 15,
   "metadata": {
    "ExecuteTime": {
     "end_time": "2018-01-15T09:19:10.015898Z",
     "start_time": "2018-01-15T09:18:53.725542Z"
    },
    "scrolled": true
   },
   "outputs": [
    {
     "data": {
      "text/plain": [
       "DataFrame[user_mobile: string, real_name: string, identity_code: string, channel_src: string, channel_attr: string, created_time: string, channel_type: string, channel_code: string, call_count: int, calltime_sum: int, calltime_mean: float, address_dict: string]"
      ]
     },
     "execution_count": 15,
     "metadata": {},
     "output_type": "execute_result"
    }
   ],
   "source": [
    "sparkdf  = spark.read.json(path_prefix+'merge_201606.txt')\n",
    "people_rawdf = sparkdf[['user_mobile','real_name','identity_code','channel_src','channel_attr','created_time','channel_type','channel_code',]]\n",
    "#peopledf.createOrReplaceTempView(\"people\")\n",
    "peopledf = people_rawdf.join(people_attr_df,on='user_mobile')\n",
    "peopledf.persist()"
   ]
  },
  {
   "cell_type": "code",
   "execution_count": 17,
   "metadata": {
    "ExecuteTime": {
     "end_time": "2018-01-15T09:19:50.338148Z",
     "start_time": "2018-01-15T09:19:45.734666Z"
    }
   },
   "outputs": [],
   "source": [
    "peopledf.repartition(1).write.save(path_prefix+'peopeledf.csv',format='csv')"
   ]
  },
  {
   "cell_type": "code",
   "execution_count": 35,
   "metadata": {
    "ExecuteTime": {
     "end_time": "2018-01-15T09:22:24.243000Z",
     "start_time": "2018-01-15T09:21:38.975960Z"
    }
   },
   "outputs": [],
   "source": [
    "edge_df.repartition(1).write.save(path_prefix+'edge_df.csv',format='csv')"
   ]
  },
  {
   "cell_type": "code",
   "execution_count": 36,
   "metadata": {
    "ExecuteTime": {
     "end_time": "2018-01-15T09:24:56.551178Z",
     "start_time": "2018-01-15T09:24:55.560823Z"
    }
   },
   "outputs": [
    {
     "data": {
      "text/plain": [
       "3760568"
      ]
     },
     "execution_count": 36,
     "metadata": {},
     "output_type": "execute_result"
    }
   ],
   "source": [
    "edge_df.count()"
   ]
  },
  {
   "cell_type": "code",
   "execution_count": 37,
   "metadata": {
    "ExecuteTime": {
     "end_time": "2018-01-15T09:25:06.327359Z",
     "start_time": "2018-01-15T09:25:05.592880Z"
    }
   },
   "outputs": [
    {
     "data": {
      "text/plain": [
       "14183"
      ]
     },
     "execution_count": 37,
     "metadata": {},
     "output_type": "execute_result"
    }
   ],
   "source": [
    "peopledf.count()"
   ]
  },
  {
   "cell_type": "code",
   "execution_count": 14,
   "metadata": {
    "ExecuteTime": {
     "end_time": "2017-11-23T17:12:34.923962",
     "start_time": "2017-11-23T17:12:34.921842"
    },
    "collapsed": true
   },
   "outputs": [],
   "source": [
    "from pyspark.sql.types import *"
   ]
  },
  {
   "cell_type": "code",
   "execution_count": 88,
   "metadata": {
    "ExecuteTime": {
     "end_time": "2018-01-12T09:23:12.532802Z",
     "start_time": "2018-01-12T09:23:12.517306Z"
    }
   },
   "outputs": [],
   "source": [
    "def get_schema(schemaString,typeString):\n",
    "    #schemaString= \"src dst calltime_sum calltime_cnt\"\n",
    "    dict_getType = {'int':IntegerType(),'string':StringType(),'float':FloatType()}\n",
    "#TypeString = [StringType(),StringType(),IntegerType(),IntegerType()]\n",
    "    fields = [StructField(field_name, dict_getType.get(Type), True) \n",
    "              for field_name,Type in zip(schemaString.split(' '),typeString.split(' '))]\n",
    "    schema = StructType(fields)\n",
    "    return schema"
   ]
  },
  {
   "cell_type": "code",
   "execution_count": 89,
   "metadata": {
    "ExecuteTime": {
     "end_time": "2018-01-12T09:23:12.948213Z",
     "start_time": "2018-01-12T09:23:12.940604Z"
    },
    "scrolled": false
   },
   "outputs": [
    {
     "data": {
      "text/plain": [
       "StructType(List(StructField(src,IntegerType,true),StructField(dst,StringType,true),StructField(calltime_sum,IntegerType,true),StructField(calltime_cnt,IntegerType,true)))"
      ]
     },
     "execution_count": 89,
     "metadata": {},
     "output_type": "execute_result"
    }
   ],
   "source": [
    "get_schema(\"src dst calltime_sum calltime_cnt\",\"int string int int\")"
   ]
  },
  {
   "cell_type": "code",
   "execution_count": 39,
   "metadata": {
    "ExecuteTime": {
     "end_time": "2017-11-23T17:40:46.798501",
     "start_time": "2017-11-23T17:40:46.756380"
    },
    "collapsed": true
   },
   "outputs": [],
   "source": [
    "col_names ='id,real_name,identity_code,channel_src,channel_attr,created_time,channel_type,channel_code,call_count,calltime_sum,calltime_mean,address_dict'\n",
    "col_types = 'string,string,string,string,string,string,string,string,int,int,float,string'\n",
    "\n",
    "people_schema = get_schema(col_names,col_types)\n",
    "\n",
    "peopeledf = spark.read.csv(path_prefix+'peopeledf.csv',schema=people_schema)"
   ]
  },
  {
   "cell_type": "code",
   "execution_count": 27,
   "metadata": {
    "ExecuteTime": {
     "end_time": "2017-11-23T17:31:33.483901",
     "start_time": "2017-11-23T17:31:33.480924"
    },
    "collapsed": true
   },
   "outputs": [],
   "source": [
    "edge_col_name = 'src,dst,calltime_sum,calltime_cnt'\n",
    "edge_col_types = 'string,string,int,int'\n",
    "edge_schema = get_schema(edge_col_name,edge_col_types)\n"
   ]
  },
  {
   "cell_type": "code",
   "execution_count": 28,
   "metadata": {
    "ExecuteTime": {
     "end_time": "2017-11-23T17:31:44.357400",
     "start_time": "2017-11-23T17:31:44.338570"
    },
    "collapsed": true
   },
   "outputs": [],
   "source": [
    "edgedf = spark.read.csv(path_prefix+'edge_df.csv',schema=edge_schema)"
   ]
  },
  {
   "cell_type": "code",
   "execution_count": 40,
   "metadata": {
    "ExecuteTime": {
     "end_time": "2017-11-23T17:41:00.738250",
     "start_time": "2017-11-23T17:41:00.731370"
    }
   },
   "outputs": [],
   "source": [
    "subpeopledf = peopeledf.select(['id'])"
   ]
  }
 ],
 "metadata": {
  "kernelspec": {
   "display_name": "Python 3",
   "language": "python",
   "name": "python3"
  },
  "language_info": {
   "codemirror_mode": {
    "name": "ipython",
    "version": 3
   },
   "file_extension": ".py",
   "mimetype": "text/x-python",
   "name": "python",
   "nbconvert_exporter": "python",
   "pygments_lexer": "ipython3",
   "version": "3.6.3"
  },
  "toc": {
   "nav_menu": {
    "height": "12px",
    "width": "252px"
   },
   "number_sections": true,
   "sideBar": true,
   "skip_h1_title": false,
   "toc_cell": false,
   "toc_position": {
    "height": "670px",
    "left": "0px",
    "right": "1304px",
    "top": "111px",
    "width": "245px"
   },
   "toc_section_display": "block",
   "toc_window_display": true
  }
 },
 "nbformat": 4,
 "nbformat_minor": 2
}
